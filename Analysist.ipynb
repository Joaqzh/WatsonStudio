{
    "cells": [
        {
            "cell_type": "code",
            "execution_count": 3,
            "metadata": {},
            "outputs": [
                {
                    "data": {
                        "text/html": "<div>\n<style scoped>\n    .dataframe tbody tr th:only-of-type {\n        vertical-align: middle;\n    }\n\n    .dataframe tbody tr th {\n        vertical-align: top;\n    }\n\n    .dataframe thead th {\n        text-align: right;\n    }\n</style>\n<table border=\"1\" class=\"dataframe\">\n  <thead>\n    <tr style=\"text-align: right;\">\n      <th></th>\n      <th>Unnamed: 0</th>\n      <th>Unnamed: 1</th>\n      <th>Unnamed: 2</th>\n      <th>Unnamed: 3</th>\n      <th>Unnamed: 4</th>\n      <th>Unnamed: 5</th>\n      <th>Unnamed: 6</th>\n      <th>Unnamed: 7</th>\n      <th>Unnamed: 8</th>\n      <th>Unnamed: 9</th>\n      <th>Unnamed: 10</th>\n      <th>Unnamed: 11</th>\n    </tr>\n  </thead>\n  <tbody>\n    <tr>\n      <th>0</th>\n      <td>NaN</td>\n      <td>NaN</td>\n      <td>NaN</td>\n      <td>Tiempo de Videos</td>\n      <td>NaN</td>\n      <td>NaN</td>\n      <td>NaN</td>\n      <td>NaN</td>\n      <td>NaN</td>\n      <td>NaN</td>\n      <td>Completado</td>\n      <td>236.0</td>\n    </tr>\n    <tr>\n      <th>1</th>\n      <td>NaN</td>\n      <td>NaN</td>\n      <td>NaN</td>\n      <td>Sem 1</td>\n      <td>Sem 2</td>\n      <td>Sem 3</td>\n      <td>Sem 4</td>\n      <td>Sem 5</td>\n      <td>Total Sem</td>\n      <td>NaN</td>\n      <td>Objetivo Semana</td>\n      <td>123.0</td>\n    </tr>\n    <tr>\n      <th>2</th>\n      <td>NaN</td>\n      <td>1.0</td>\n      <td>What is Data Science?</td>\n      <td>27</td>\n      <td>39</td>\n      <td>32</td>\n      <td>-</td>\n      <td>-</td>\n      <td>98</td>\n      <td>NaN</td>\n      <td>NaN</td>\n      <td>NaN</td>\n    </tr>\n    <tr>\n      <th>3</th>\n      <td>NaN</td>\n      <td>2.0</td>\n      <td>Tools for Data Science</td>\n      <td>84</td>\n      <td>54</td>\n      <td>72</td>\n      <td>-</td>\n      <td>-</td>\n      <td>210</td>\n      <td>NaN</td>\n      <td>NaN</td>\n      <td>NaN</td>\n    </tr>\n    <tr>\n      <th>4</th>\n      <td>NaN</td>\n      <td>3.0</td>\n      <td>Data Science Methodology</td>\n      <td>19</td>\n      <td>22</td>\n      <td>10</td>\n      <td>-</td>\n      <td>-</td>\n      <td>51</td>\n      <td>NaN</td>\n      <td>NaN</td>\n      <td>NaN</td>\n    </tr>\n  </tbody>\n</table>\n</div>",
                        "text/plain": "   Unnamed: 0  Unnamed: 1                Unnamed: 2        Unnamed: 3  \\\n0         NaN         NaN                       NaN  Tiempo de Videos   \n1         NaN         NaN                       NaN             Sem 1   \n2         NaN         1.0     What is Data Science?                27   \n3         NaN         2.0    Tools for Data Science                84   \n4         NaN         3.0  Data Science Methodology                19   \n\n  Unnamed: 4 Unnamed: 5 Unnamed: 6 Unnamed: 7 Unnamed: 8  Unnamed: 9  \\\n0        NaN        NaN        NaN        NaN        NaN         NaN   \n1      Sem 2      Sem 3      Sem 4      Sem 5  Total Sem         NaN   \n2         39         32          -          -         98         NaN   \n3         54         72          -          -        210         NaN   \n4         22         10          -          -         51         NaN   \n\n       Unnamed: 10  Unnamed: 11  \n0       Completado        236.0  \n1  Objetivo Semana        123.0  \n2              NaN          NaN  \n3              NaN          NaN  \n4              NaN          NaN  "
                    },
                    "execution_count": 3,
                    "metadata": {},
                    "output_type": "execute_result"
                }
            ],
            "source": "# The code was removed by Watson Studio for sharing."
        },
        {
            "cell_type": "code",
            "execution_count": 4,
            "metadata": {},
            "outputs": [
                {
                    "name": "stdout",
                    "output_type": "stream",
                    "text": "Holiwis\n"
                }
            ],
            "source": "print(\"Holiwis\")"
        }
    ],
    "metadata": {
        "kernelspec": {
            "display_name": "Python 3.9 with Spark",
            "language": "python3",
            "name": "python39"
        },
        "language_info": {
            "codemirror_mode": {
                "name": "ipython",
                "version": 3
            },
            "file_extension": ".py",
            "mimetype": "text/x-python",
            "name": "python",
            "nbconvert_exporter": "python",
            "pygments_lexer": "ipython3",
            "version": "3.9.13"
        }
    },
    "nbformat": 4,
    "nbformat_minor": 1
}